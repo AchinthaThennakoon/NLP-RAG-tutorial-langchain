{
 "cells": [
  {
   "cell_type": "markdown",
   "id": "931a578c",
   "metadata": {},
   "source": [
    "# Overview"
   ]
  },
  {
   "cell_type": "markdown",
   "id": "041384e6",
   "metadata": {},
   "source": [
    "1. load document\n",
    "2. split\n",
    "3. embed using a model\n",
    "4. store in vector store\n",
    "5. retrieve\n",
    "6. genration"
   ]
  },
  {
   "cell_type": "markdown",
   "id": "da3e43dd",
   "metadata": {},
   "source": [
    "## environment"
   ]
  },
  {
   "cell_type": "code",
   "execution_count": null,
   "id": "62226847",
   "metadata": {},
   "outputs": [],
   "source": []
  }
 ],
 "metadata": {
  "kernelspec": {
   "display_name": "rag_env",
   "language": "python",
   "name": "python3"
  },
  "language_info": {
   "name": "python",
   "version": "3.13.5"
  }
 },
 "nbformat": 4,
 "nbformat_minor": 5
}
